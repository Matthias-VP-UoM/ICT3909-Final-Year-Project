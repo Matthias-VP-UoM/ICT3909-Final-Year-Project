{
 "cells": [
  {
   "cell_type": "code",
   "execution_count": 1,
   "metadata": {},
   "outputs": [],
   "source": [
    "import pandas as pd\n",
    "import json\n",
    "import os\n",
    "import numpy as np\n",
    "import matplotlib.pyplot as plt\n",
    "from collections import Counter\n",
    "from sklearn.metrics import confusion_matrix, ConfusionMatrixDisplay, accuracy_score, precision_score, recall_score, f1_score, classification_report\n",
    "%matplotlib inline"
   ]
  },
  {
   "cell_type": "code",
   "execution_count": 2,
   "metadata": {},
   "outputs": [],
   "source": [
    "#eval_folder = 'evaluation'\n",
    "#facial_rec_subfolder = 'facial_rec'\n",
    "#facial_rec_full_path = os.path.join(eval_folder, facial_rec_subfolder)\n",
    "ground_truth_data_path = os.path.join('..', 'data')"
   ]
  },
  {
   "cell_type": "code",
   "execution_count": 3,
   "metadata": {},
   "outputs": [
    {
     "name": "stdout",
     "output_type": "stream",
     "text": [
      "1: video_1\n",
      "2: video_1_ml\n",
      "3: video_2\n",
      "4: video_2_ml\n",
      "5: video_3\n",
      "6: video_4\n",
      "7: video_5\n",
      "8: video_6\n",
      "9: video_7\n",
      "10: video_8\n",
      "11: video_9\n",
      "12: video_10\n",
      "13: video_11\n",
      "14: video_12\n",
      "15: video_13\n",
      "16: video_14\n",
      "17: video_15\n",
      "18: video_16\n",
      "19: video_17\n",
      "20: video_18\n",
      "21: video_19\n",
      "22: video_20\n",
      "23: video_21\n",
      "24: video_22\n"
     ]
    }
   ],
   "source": [
    "video_ground_truths = [folder for folder in os.listdir(ground_truth_data_path) if os.path.isdir(os.path.join(ground_truth_data_path,folder))]\n",
    "\n",
    "video_ground_truths_sorted = sorted(video_ground_truths, key=lambda x: int(x.split('_')[1]))\n",
    "\n",
    "for index, video_file in enumerate(video_ground_truths_sorted):\n",
    "    print(f'{index+1}: {video_file}')"
   ]
  },
  {
   "cell_type": "code",
   "execution_count": 4,
   "metadata": {},
   "outputs": [
    {
     "name": "stdout",
     "output_type": "stream",
     "text": [
      "Video selected: video_2_ml\n"
     ]
    }
   ],
   "source": [
    "video_chosen = \"\"\n",
    "if len(video_ground_truths) > 0:\n",
    "    valid_choice = False\n",
    "    while not valid_choice:\n",
    "        index_choice = input('Enter index of video to evaluate: ')\n",
    "\n",
    "        if index_choice.isnumeric():\n",
    "            if int(index_choice) > len(video_ground_truths_sorted) or int(index_choice) <= 0:\n",
    "                valid_choice = False\n",
    "                print('Invalid choice!')\n",
    "            else:\n",
    "                valid_choice = True\n",
    "                video_chosen = video_ground_truths_sorted[int(index_choice)-1]\n",
    "                print(\"Video selected:\", video_chosen)\n",
    "        else:\n",
    "            valid_choice = False\n",
    "            print(\"Index entered is not numeric!\")"
   ]
  },
  {
   "cell_type": "code",
   "execution_count": 5,
   "metadata": {},
   "outputs": [
    {
     "name": "stdout",
     "output_type": "stream",
     "text": [
      "video_2_ml_arcface.csv\n"
     ]
    }
   ],
   "source": [
    "video_gt_path = os.path.join(ground_truth_data_path, video_chosen)\n",
    "arcface_video_file = ''\n",
    "\n",
    "for file in os.listdir(video_gt_path):\n",
    "    if 'arcface' in file and file.endswith('.csv'):\n",
    "        arcface_video_file = file\n",
    "        break\n",
    "\n",
    "print(arcface_video_file)"
   ]
  },
  {
   "cell_type": "code",
   "execution_count": 6,
   "metadata": {},
   "outputs": [
    {
     "data": {
      "text/html": [
       "<div>\n",
       "<style scoped>\n",
       "    .dataframe tbody tr th:only-of-type {\n",
       "        vertical-align: middle;\n",
       "    }\n",
       "\n",
       "    .dataframe tbody tr th {\n",
       "        vertical-align: top;\n",
       "    }\n",
       "\n",
       "    .dataframe thead th {\n",
       "        text-align: right;\n",
       "    }\n",
       "</style>\n",
       "<table border=\"1\" class=\"dataframe\">\n",
       "  <thead>\n",
       "    <tr style=\"text-align: right;\">\n",
       "      <th></th>\n",
       "      <th>frame_num</th>\n",
       "      <th>roi_num</th>\n",
       "      <th>person_classified</th>\n",
       "      <th>person_actual</th>\n",
       "      <th>person_score</th>\n",
       "    </tr>\n",
       "  </thead>\n",
       "  <tbody>\n",
       "    <tr>\n",
       "      <th>0</th>\n",
       "      <td>frame_0002</td>\n",
       "      <td>frame_0002_00</td>\n",
       "      <td>interviewee</td>\n",
       "      <td>interviewee</td>\n",
       "      <td>0.857579</td>\n",
       "    </tr>\n",
       "    <tr>\n",
       "      <th>1</th>\n",
       "      <td>frame_0003</td>\n",
       "      <td>frame_0003_00</td>\n",
       "      <td>interviewee</td>\n",
       "      <td>interviewee</td>\n",
       "      <td>0.840635</td>\n",
       "    </tr>\n",
       "    <tr>\n",
       "      <th>2</th>\n",
       "      <td>frame_0004</td>\n",
       "      <td>frame_0004_00</td>\n",
       "      <td>interviewer</td>\n",
       "      <td>interviewer</td>\n",
       "      <td>0.855163</td>\n",
       "    </tr>\n",
       "    <tr>\n",
       "      <th>3</th>\n",
       "      <td>frame_0004</td>\n",
       "      <td>frame_0004_01</td>\n",
       "      <td>interviewee</td>\n",
       "      <td>interviewee</td>\n",
       "      <td>0.693811</td>\n",
       "    </tr>\n",
       "    <tr>\n",
       "      <th>4</th>\n",
       "      <td>frame_0005</td>\n",
       "      <td>frame_0005_00</td>\n",
       "      <td>interviewer</td>\n",
       "      <td>interviewer</td>\n",
       "      <td>0.966367</td>\n",
       "    </tr>\n",
       "    <tr>\n",
       "      <th>5</th>\n",
       "      <td>frame_0005</td>\n",
       "      <td>frame_0005_01</td>\n",
       "      <td>interviewee</td>\n",
       "      <td>interviewee</td>\n",
       "      <td>0.716232</td>\n",
       "    </tr>\n",
       "    <tr>\n",
       "      <th>6</th>\n",
       "      <td>frame_0006</td>\n",
       "      <td>frame_0006_00</td>\n",
       "      <td>interviewer</td>\n",
       "      <td>interviewer</td>\n",
       "      <td>0.964966</td>\n",
       "    </tr>\n",
       "    <tr>\n",
       "      <th>7</th>\n",
       "      <td>frame_0006</td>\n",
       "      <td>frame_0006_01</td>\n",
       "      <td>interviewee</td>\n",
       "      <td>interviewee</td>\n",
       "      <td>0.814841</td>\n",
       "    </tr>\n",
       "    <tr>\n",
       "      <th>8</th>\n",
       "      <td>frame_0007</td>\n",
       "      <td>frame_0007_00</td>\n",
       "      <td>interviewer</td>\n",
       "      <td>interviewer</td>\n",
       "      <td>0.916901</td>\n",
       "    </tr>\n",
       "    <tr>\n",
       "      <th>9</th>\n",
       "      <td>frame_0007</td>\n",
       "      <td>frame_0007_01</td>\n",
       "      <td>interviewee</td>\n",
       "      <td>interviewee</td>\n",
       "      <td>0.962470</td>\n",
       "    </tr>\n",
       "  </tbody>\n",
       "</table>\n",
       "</div>"
      ],
      "text/plain": [
       "    frame_num        roi_num person_classified person_actual  person_score\n",
       "0  frame_0002  frame_0002_00       interviewee   interviewee      0.857579\n",
       "1  frame_0003  frame_0003_00       interviewee   interviewee      0.840635\n",
       "2  frame_0004  frame_0004_00       interviewer   interviewer      0.855163\n",
       "3  frame_0004  frame_0004_01       interviewee   interviewee      0.693811\n",
       "4  frame_0005  frame_0005_00       interviewer   interviewer      0.966367\n",
       "5  frame_0005  frame_0005_01       interviewee   interviewee      0.716232\n",
       "6  frame_0006  frame_0006_00       interviewer   interviewer      0.964966\n",
       "7  frame_0006  frame_0006_01       interviewee   interviewee      0.814841\n",
       "8  frame_0007  frame_0007_00       interviewer   interviewer      0.916901\n",
       "9  frame_0007  frame_0007_01       interviewee   interviewee      0.962470"
      ]
     },
     "execution_count": 6,
     "metadata": {},
     "output_type": "execute_result"
    }
   ],
   "source": [
    "ground_truth_csv = pd.read_csv(os.path.join(video_gt_path, arcface_video_file))\n",
    "\n",
    "ground_truth_csv.head(10)"
   ]
  },
  {
   "cell_type": "code",
   "execution_count": 7,
   "metadata": {},
   "outputs": [
    {
     "data": {
      "text/html": [
       "<div>\n",
       "<style scoped>\n",
       "    .dataframe tbody tr th:only-of-type {\n",
       "        vertical-align: middle;\n",
       "    }\n",
       "\n",
       "    .dataframe tbody tr th {\n",
       "        vertical-align: top;\n",
       "    }\n",
       "\n",
       "    .dataframe thead th {\n",
       "        text-align: right;\n",
       "    }\n",
       "</style>\n",
       "<table border=\"1\" class=\"dataframe\">\n",
       "  <thead>\n",
       "    <tr style=\"text-align: right;\">\n",
       "      <th></th>\n",
       "      <th>frame_num</th>\n",
       "      <th>roi_num</th>\n",
       "      <th>person_classified</th>\n",
       "      <th>person_actual</th>\n",
       "      <th>person_score</th>\n",
       "    </tr>\n",
       "  </thead>\n",
       "  <tbody>\n",
       "    <tr>\n",
       "      <th>88</th>\n",
       "      <td>frame_0075</td>\n",
       "      <td>frame_0075_00</td>\n",
       "      <td>interviewer</td>\n",
       "      <td>interviewee</td>\n",
       "      <td>0.985658</td>\n",
       "    </tr>\n",
       "  </tbody>\n",
       "</table>\n",
       "</div>"
      ],
      "text/plain": [
       "     frame_num        roi_num person_classified person_actual  person_score\n",
       "88  frame_0075  frame_0075_00       interviewer   interviewee      0.985658"
      ]
     },
     "execution_count": 7,
     "metadata": {},
     "output_type": "execute_result"
    }
   ],
   "source": [
    "ground_truth_csv[ground_truth_csv['person_classified'] != ground_truth_csv['person_actual']]"
   ]
  },
  {
   "cell_type": "code",
   "execution_count": 8,
   "metadata": {},
   "outputs": [
    {
     "data": {
      "image/png": "[encoded data removed]",
      "text/plain": [
       "<Figure size 640x480 with 2 Axes>"
      ]
     },
     "metadata": {},
     "output_type": "display_data"
    }
   ],
   "source": [
    "actual = ground_truth_csv['person_actual']\n",
    "predicted = ground_truth_csv['person_classified']\n",
    "\n",
    "# Get unique sorted labels to ensure consistency in the confusion matrix\n",
    "labels = sorted(list(set(actual.unique()).union(set(predicted.unique()))))\n",
    "\n",
    "# Compute the confusion matrix\n",
    "cm = confusion_matrix(actual, predicted, labels=labels)\n",
    "\n",
    "# Display the confusion matrix with proper labels\n",
    "cm_display = ConfusionMatrixDisplay(confusion_matrix=cm, display_labels=labels)\n",
    "cm_display.plot()  # Optional: add color for better visualization\n",
    "plt.xticks(rotation=45)\n",
    "plt.tight_layout()\n",
    "plt.show()"
   ]
  },
  {
   "cell_type": "code",
   "execution_count": 9,
   "metadata": {},
   "outputs": [
    {
     "name": "stdout",
     "output_type": "stream",
     "text": [
      "Accuracy: 0.997442\n",
      "Precision: 0.997464\n",
      "Recall: 0.997442\n",
      "F1-Score: 0.997446\n"
     ]
    }
   ],
   "source": [
    "accuracy = accuracy_score(actual, predicted)\n",
    "precision = precision_score(actual, predicted, average='weighted')\n",
    "recall = recall_score(actual, predicted, average='weighted')\n",
    "f1_score_val = f1_score(actual, predicted, average='weighted')\n",
    "\n",
    "print(f\"Accuracy: {accuracy:.6f}\")\n",
    "print(f\"Precision: {precision:.6f}\")\n",
    "print(f\"Recall: {recall:.6f}\")\n",
    "print(f\"F1-Score: {f1_score_val:.6f}\")"
   ]
  },
  {
   "cell_type": "code",
   "execution_count": 10,
   "metadata": {},
   "outputs": [
    {
     "name": "stdout",
     "output_type": "stream",
     "text": [
      "Accuracy: 0.997442\n",
      "Precision: 0.997442\n",
      "Recall: 0.997442\n",
      "F1-Score: 0.997442\n"
     ]
    }
   ],
   "source": [
    "accuracy = accuracy_score(actual, predicted)\n",
    "precision = precision_score(actual, predicted, average='micro')\n",
    "recall = recall_score(actual, predicted, average='micro')\n",
    "f1_score_val = f1_score(actual, predicted, average='micro')\n",
    "\n",
    "print(f\"Accuracy: {accuracy:.6f}\")\n",
    "print(f\"Precision: {precision:.6f}\")\n",
    "print(f\"Recall: {recall:.6f}\")\n",
    "print(f\"F1-Score: {f1_score_val:.6f}\")"
   ]
  },
  {
   "cell_type": "code",
   "execution_count": 11,
   "metadata": {},
   "outputs": [
    {
     "name": "stdout",
     "output_type": "stream",
     "text": [
      "Accuracy: 0.997442\n",
      "Precision: 0.995726\n",
      "Recall: 0.998182\n",
      "F1-Score: 0.996943\n"
     ]
    }
   ],
   "source": [
    "accuracy = accuracy_score(actual, predicted)\n",
    "precision = precision_score(actual, predicted, average='macro')\n",
    "recall = recall_score(actual, predicted, average='macro')\n",
    "f1_score_val = f1_score(actual, predicted, average='macro')\n",
    "\n",
    "print(f\"Accuracy: {accuracy:.6f}\")\n",
    "print(f\"Precision: {precision:.6f}\")\n",
    "print(f\"Recall: {recall:.6f}\")\n",
    "print(f\"F1-Score: {f1_score_val:.6f}\")"
   ]
  },
  {
   "cell_type": "code",
   "execution_count": 12,
   "metadata": {},
   "outputs": [
    {
     "name": "stdout",
     "output_type": "stream",
     "text": [
      "              precision    recall  f1-score   support\n",
      "\n",
      " interviewee       1.00      1.00      1.00       275\n",
      " interviewer       0.99      1.00      1.00       116\n",
      "\n",
      "    accuracy                           1.00       391\n",
      "   macro avg       1.00      1.00      1.00       391\n",
      "weighted avg       1.00      1.00      1.00       391\n",
      "\n"
     ]
    }
   ],
   "source": [
    "report = classification_report(actual, predicted, target_names=labels)\n",
    "\n",
    "print(report)"
   ]
  }
 ],
 "metadata": {
  "kernelspec": {
   "display_name": "Python 3",
   "language": "python",
   "name": "python3"
  },
  "language_info": {
   "codemirror_mode": {
    "name": "ipython",
    "version": 3
   },
   "file_extension": ".py",
   "mimetype": "text/x-python",
   "name": "python",
   "nbconvert_exporter": "python",
   "pygments_lexer": "ipython3",
   "version": "3.10.7"
  }
 },
 "nbformat": 4,
 "nbformat_minor": 2
}
